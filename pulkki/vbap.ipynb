{
 "cells": [
  {
   "cell_type": "code",
   "execution_count": 142,
   "metadata": {},
   "outputs": [],
   "source": [
    "import numpy as np\n",
    "import scipy.signal"
   ]
  },
  {
   "cell_type": "code",
   "execution_count": 143,
   "metadata": {},
   "outputs": [],
   "source": [
    "# The azimuth angles (in degrees) of the loudspeakers.\n",
    "# Angles must be in counter-clockwise order.\n",
    "emitter_angles = np.array([30, 110, 150, -150, -110, -30])\n",
    "emitter_channel_ordering = np.array([0, 4, 6, 7, 5, 1])"
   ]
  },
  {
   "cell_type": "code",
   "execution_count": 144,
   "metadata": {},
   "outputs": [],
   "source": [
    "# Unit vectors for the loudspeakers. Not that the matrix is constructed as the transpose of the vectors.\n",
    "# When P' = G * L, the result of P' is the correct p = g1 L1 + g2 L2 by scaled vector addition.\n",
    "# The projections of the unit vectors sum to the unit vector in the direction of the source.\n",
    "L = np.array((np.cos(np.radians(emitter_angles)), np.sin(np.radians(emitter_angles)))).T"
   ]
  },
  {
   "cell_type": "code",
   "execution_count": 145,
   "metadata": {},
   "outputs": [],
   "source": [
    "# Create successive pairs of speaker angles until looping around. The pair (n1, n2) where \n",
    "# n1 is 'more clock-wise' than n2.\n",
    "panning_pairs = np.vstack([(i, i + 1) for i in range(len(emitter_angles) - 1)] + [(len(emitter_angles) - 1, 0)])"
   ]
  },
  {
   "cell_type": "code",
   "execution_count": 146,
   "metadata": {},
   "outputs": [],
   "source": [
    "# The azimuth angles (in degrees) of the sources.\n",
    "source_angles = np.array([0, 70, 130, 180, -130, -70])"
   ]
  },
  {
   "cell_type": "code",
   "execution_count": 147,
   "metadata": {},
   "outputs": [],
   "source": [
    "# Calculate the cartesian directional unit vectors for the sound sources.\n",
    "P = np.array((np.cos(np.radians(source_angles)), np.sin(np.radians(source_angles))))"
   ]
  },
  {
   "cell_type": "code",
   "execution_count": 7,
   "metadata": {},
   "outputs": [],
   "source": [
    "# G is the matrix that contains the calculated gains between each emitter within\n",
    "# a panning pair of emitters, for each emitter.\n",
    "#\n",
    "# For M sound sources, for N panning pairs, [n1, n2] where n1 is 'more clock-wise' than n2.\n",
    "G = np.zeros((len(source_angles), len(emitter_angles), 2))"
   ]
  },
  {
   "cell_type": "code",
   "execution_count": 8,
   "metadata": {},
   "outputs": [],
   "source": [
    "# For each source, calculate the gains matrix for all panning pairs.\n",
    "\n",
    "# The directional unit vectors for a specific panning pair.\n",
    "Ln1n2 = np.zeros((2, 2))\n",
    "\n",
    "for m in range(len(source_angles)):\n",
    "    pT = P[:, m].reshape(1, 2)\n",
    "    for n in range(len(emitter_angles)):\n",
    "        panning_pair = list(panning_pairs[n])\n",
    "        Ln1n2[:,:] = L[panning_pair,:]\n",
    "        # del panning_pair\n",
    "        G[m, n, :] = pT @ np.linalg.inv(Ln1n2)\n",
    "\n",
    "        # Normalize the gains\n",
    "        G[m, n, :] /= np.linalg.norm(G[m, n, :])\n",
    "    del pT\n",
    "\n",
    "# del Ln1n2\n",
    "# del m, n"
   ]
  },
  {
   "cell_type": "code",
   "execution_count": 9,
   "metadata": {},
   "outputs": [],
   "source": [
    "class PannedSource:\n",
    "    def __init__(self, source_angle, group, gains):\n",
    "        self.source_angle = source_angle\n",
    "        self.group = group\n",
    "        self.gains = gains\n",
    "        self.gains[gains < 0.000001] = 0.0\n",
    "        \n",
    "\n",
    "    def __str__(self):\n",
    "        return f'{self.source_angle} = {self.gains[0]} * {self.group[0]} + {self.gains[1]} * {self.group[1]}'\n",
    "    \n",
    "    def pan(self, source, input):\n",
    "        '''\n",
    "        source.shape == (m, 1)\n",
    "        input.shape == (m, n) where m is the number of samples and n is the number of channels/speakers.\n",
    "\n",
    "        Returns an m x n array with panned source correctly mixed into the appropriate channels of input.\n",
    "        Specifically, \n",
    "            output[:,self.group] = self.gains * source + input[self.group]\n",
    "        '''\n",
    "\n",
    "        return self.gains * np.repeat(source, 2).reshape(len(source), 2) + input[:,self.group]\n",
    "\n",
    "valid_pannings = np.logical_and(G > 0, G < 1.00001)\n",
    "panned_sources = [PannedSource(source_angle=source_angles[m],\n",
    "                                group=panning_pairs[n],\n",
    "                                gains=G[m, n, :]) \n",
    "                                for m in range(len(source_angles)) \n",
    "                                for n in range(len(emitter_angles)) \n",
    "                                if valid_pannings[m,n,:].all()]\n",
    "# del valid_pannings\n",
    "# del panning_pairs"
   ]
  },
  {
   "cell_type": "code",
   "execution_count": null,
   "metadata": {},
   "outputs": [],
   "source": [
    "[str(panned_source) for panned_source in panned_sources]"
   ]
  },
  {
   "cell_type": "code",
   "execution_count": 11,
   "metadata": {},
   "outputs": [],
   "source": [
    "fs = 48000\n",
    "T = 10\n",
    "t = np.linspace(0, T, fs * T)\n",
    "\n",
    "frequencies = [261.63, 329.63, 392.00, 523.25, 659.25, 783.99]\n",
    "\n",
    "sources = [np.sin(2 * np.pi * f * t) for f in frequencies[:len(source_angles)]]"
   ]
  },
  {
   "cell_type": "code",
   "execution_count": 23,
   "metadata": {},
   "outputs": [],
   "source": [
    "panned_output = np.zeros((fs * T, len(emitter_angles)))\n",
    "\n",
    "for i in range(len(sources)):\n",
    "    panned_source = panned_sources[i]\n",
    "    panned_output[:,panned_source.group] += 10.0**(-3.0/20.0) * panned_source.pan(sources[i], panned_output)\n",
    "\n",
    "output = np.zeros((T * fs, 8))\n",
    "\n",
    "for i in range(len(emitter_angles)):\n",
    "    divisor = np.max(np.abs(panned_output[:,i]))\n",
    "    if math.isclose(divisor, 0.0):\n",
    "        output[:,emitter_channel_ordering[i]] = panned_output[:,i]\n",
    "    else:\n",
    "        output[:,emitter_channel_ordering[i]] = panned_output[:,i] / divisor\n",
    "        \n",
    "# Write output as a 32-bit float WAV file.\n",
    "scipy.io.wavfile.write('output.wav', fs, output.astype(np.float32))\n"
   ]
  }
 ],
 "metadata": {
  "kernelspec": {
   "display_name": "base",
   "language": "python",
   "name": "python3"
  },
  "language_info": {
   "codemirror_mode": {
    "name": "ipython",
    "version": 3
   },
   "file_extension": ".py",
   "mimetype": "text/x-python",
   "name": "python",
   "nbconvert_exporter": "python",
   "pygments_lexer": "ipython3",
   "version": "3.11.10"
  }
 },
 "nbformat": 4,
 "nbformat_minor": 2
}
