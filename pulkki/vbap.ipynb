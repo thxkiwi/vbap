{
 "cells": [
  {
   "cell_type": "code",
   "execution_count": 1,
   "metadata": {},
   "outputs": [],
   "source": [
    "import numpy as np\n",
    "import scipy.signal"
   ]
  },
  {
   "cell_type": "code",
   "execution_count": 2,
   "metadata": {},
   "outputs": [],
   "source": [
    "# The azimuth angles (in degrees) of the loudspeakers.\n",
    "# Angles must be in counter-clockwise order.\n",
    "emitter_angles = np.array([30, 110, 150, -150, -110, -30])\n",
    "emitter_channel_ordering = np.array([0, 4, 6, 7, 5, 1])"
   ]
  },
  {
   "cell_type": "code",
   "execution_count": 3,
   "metadata": {},
   "outputs": [],
   "source": [
    "# Unit vectors for the loudspeakers. Not that the matrix is constructed as the transpose of the vectors.\n",
    "# When P' = G * L, the result of P' is the correct p = g1 L1 + g2 L2 by scaled vector addition.\n",
    "# The projections of the unit vectors sum to the unit vector in the direction of the source.\n",
    "L = np.array((np.cos(np.radians(emitter_angles)), np.sin(np.radians(emitter_angles)))).T"
   ]
  },
  {
   "cell_type": "code",
   "execution_count": 4,
   "metadata": {},
   "outputs": [],
   "source": [
    "# Create successive pairs of speaker angles until looping around. The pair (n1, n2) where \n",
    "# n1 is 'more clock-wise' than n2.\n",
    "panning_pairs = np.vstack([(i, i + 1) for i in range(len(emitter_angles) - 1)] + [(len(emitter_angles) - 1, 0)])"
   ]
  },
  {
   "cell_type": "code",
   "execution_count": 5,
   "metadata": {},
   "outputs": [],
   "source": [
    "# The azimuth angles (in degrees) of the sources.\n",
    "source_angles = np.array([0, 70, 130, 180, -130, -70])"
   ]
  },
  {
   "cell_type": "code",
   "execution_count": 6,
   "metadata": {},
   "outputs": [],
   "source": [
    "# Calculate the cartesian directional unit vectors for the sound sources.\n",
    "P = np.array((np.cos(np.radians(source_angles)), np.sin(np.radians(source_angles))))"
   ]
  },
  {
   "cell_type": "code",
   "execution_count": 7,
   "metadata": {},
   "outputs": [],
   "source": [
    "# G is the matrix that contains the calculated gains between each emitter within\n",
    "# a panning pair of emitters, for each emitter.\n",
    "#\n",
    "# For M sound sources, for N panning pairs, [n1, n2] where n1 is 'more clock-wise' than n2.\n",
    "G = np.zeros((len(source_angles), len(emitter_angles), 2))"
   ]
  },
  {
   "cell_type": "code",
   "execution_count": 8,
   "metadata": {},
   "outputs": [],
   "source": [
    "# For each source, calculate the gains matrix for all panning pairs.\n",
    "\n",
    "# The directional unit vectors for a specific panning pair.\n",
    "Ln1n2 = np.zeros((2, 2))\n",
    "\n",
    "for m in range(len(source_angles)):\n",
    "    pT = P[:, m].reshape(1, 2)\n",
    "    for n in range(len(emitter_angles)):\n",
    "        panning_pair = list(panning_pairs[n])\n",
    "        Ln1n2[:,:] = L[panning_pair,:]\n",
    "        \n",
    "        G[m, n, :] = pT @ np.linalg.inv(Ln1n2)\n",
    "\n",
    "        # Normalize the gains\n",
    "        G[m, n, :] /= np.linalg.norm(G[m, n, :])"
   ]
  },
  {
   "cell_type": "code",
   "execution_count": null,
   "metadata": {},
   "outputs": [],
   "source": [
    "class PannedSource:\n",
    "    def __init__(self, source_angle, group, gains):\n",
    "        self.source_angle = source_angle\n",
    "        self.panning_pair = group\n",
    "        self.gains = gains\n",
    "        self.gains[gains < 0.000001] = 0.0\n",
    "        self.panned_audio = None\n",
    "        \n",
    "\n",
    "    def __str__(self):\n",
    "        return f'{self.source_angle} = {self.gains[0]} * {self.panning_pair[0]} + {self.gains[1]} * {self.panning_pair[1]}'\n",
    "    \n",
    "    def pan(self, source, input):\n",
    "        '''\n",
    "        source.shape == (m, 1)\n",
    "        input.shape == (m, n) where m is the number of samples and n is the number of channels/speakers.\n",
    "\n",
    "        Returns an m x n array with panned source correctly mixed into the appropriate channels of input.\n",
    "        Specifically, \n",
    "            output[:,self.group] = self.gains * source + input[self.group]\n",
    "        '''\n",
    "\n",
    "        self.panned_audio = self.gains * np.repeat(source, 2).reshape(len(source), 2)\n",
    "        return self.panned_audio\n",
    "\n",
    "panned_sources = [PannedSource(source_angle=source_angles[m],\n",
    "                                group=panning_pairs[n],\n",
    "                                gains=G[m, n, :]) \n",
    "                                for m in range(len(source_angles)) \n",
    "                                for n in range(len(emitter_angles)) \n",
    "                                if ((G[m,n,0] == 0.0) and (G[m,n,1] == 1.0)) or np.logical_and(G[m,n,:] > 0, G[m,n,:] < 1).all()]\n",
    "\n",
    "for (panned_source_index, ps) in enumerate(panned_sources):\n",
    "    print(f'Source {panned_source_index:2} at {ps.source_angle:4} := {ps.gains[0]:0.4f} * {ps.panning_pair[0]:2}/{emitter_angles[ps.panning_pair[0]]:4} + {ps.gains[1]:0.4f} * {ps.panning_pair[1]:2}/{emitter_angles[ps.panning_pair[1]]:4}')"
   ]
  },
  {
   "cell_type": "code",
   "execution_count": null,
   "metadata": {},
   "outputs": [],
   "source": [
    "# Extract panning pairs and gains from panned_sources\n",
    "panned_pairs_gains = np.array([list(zip(panned_source.panning_pair, panned_source.gains)) for panned_source in panned_sources])\n",
    "\n",
    "# Flatten the array and separate pairs and gains\n",
    "panned_source_emitter_indices = panned_pairs_gains[:,:,0].astype(int).flatten()\n",
    "panned_source_emitter_gains = panned_pairs_gains[:,:,1].flatten()\n",
    "np.bincount(panned_source_emitter_indices, weights=panned_source_emitter_gains, minlength=len(emitter_angles))"
   ]
  },
  {
   "cell_type": "code",
   "execution_count": 11,
   "metadata": {},
   "outputs": [],
   "source": [
    "fs = 48000\n",
    "T = 10\n",
    "t = np.linspace(0, T, fs * T)\n",
    "\n",
    "frequencies = np.array([261.63, 329.63, 392.00, 523.25, 659.25, 783.99])\n",
    "\n",
    "sources = 1 / source_angles.size * np.sin(2 * np.pi * frequencies[:len(source_angles)][:,np.newaxis] * t)\n",
    "#sourcesT = sources.T\n",
    "#sources = np.ones((len(source_angles), len(t)))"
   ]
  },
  {
   "cell_type": "code",
   "execution_count": 12,
   "metadata": {},
   "outputs": [],
   "source": [
    "panned_output = np.zeros((fs * T, len(emitter_angles)))\n",
    "\n",
    "for (panned_source_index, panned_source) in enumerate(panned_sources):\n",
    "    panned_output[:,panned_source.panning_pair] += panned_source.pan(sources[:,panned_source_index], panned_output)\n",
    "\n",
    "# Collect all of the panning_pairs from the panned sources.\n",
    "panned_sources_pairs = [panned_source.panning_pair for panned_source in panned_sources]\n",
    "\n",
    "# Flatten the list of pairs to give the indices of the emitters that had panned sources added to them.\n",
    "panned_source_emitters = np.unique([emitter for pair in panned_sources_pairs for emitter in pair])\n",
    "panned_source_channel_indices = [emitter_channel_ordering[emitter] for emitter in panned_source_emitters]"
   ]
  },
  {
   "cell_type": "code",
   "execution_count": 13,
   "metadata": {},
   "outputs": [],
   "source": [
    "\n",
    "output = np.zeros((T * fs, 8))\n",
    "\n",
    "# First write the unpanned sources to a wav file but shuffle the indexing of the sources so that\n",
    "# no audio is written to the output channel indices 2 and 3.\n",
    "unassigned_channels = [i for i in range(output.shape[1]) if i not in [2, 3]]\n",
    "\n",
    "for panned_source_index, source in enumerate(sources):\n",
    "    if panned_source_index < len(unassigned_channels):\n",
    "        output[:, unassigned_channels[panned_source_index]] = source\n",
    "\n",
    "scipy.io.wavfile.write('unassigned_sources.wav', fs, output.astype(np.float32))\n"
   ]
  },
  {
   "cell_type": "code",
   "execution_count": 14,
   "metadata": {},
   "outputs": [],
   "source": [
    "output = np.zeros((T * fs, 8))\n",
    "\n",
    "# Add the panned sources to the output.\n",
    "for (emitter_index, channel_index) in enumerate(emitter_channel_ordering):\n",
    "    output[:,channel_index] += panned_output[:,emitter_index]\n",
    "\n",
    "MINUS_3_DB = 10.0**(-3.0/20.0)\n",
    "output[:, panned_source_channel_indices] *= MINUS_3_DB\n",
    "        \n",
    "# Write output as a 32-bit float WAV file.\n",
    "scipy.io.wavfile.write('output.wav', fs, output.astype(np.float32))\n"
   ]
  }
 ],
 "metadata": {
  "kernelspec": {
   "display_name": "base",
   "language": "python",
   "name": "python3"
  },
  "language_info": {
   "codemirror_mode": {
    "name": "ipython",
    "version": 3
   },
   "file_extension": ".py",
   "mimetype": "text/x-python",
   "name": "python",
   "nbconvert_exporter": "python",
   "pygments_lexer": "ipython3",
   "version": "3.11.10"
  }
 },
 "nbformat": 4,
 "nbformat_minor": 2
}
