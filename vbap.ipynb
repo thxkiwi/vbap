{
 "cells": [
  {
   "cell_type": "code",
   "execution_count": 1,
   "metadata": {},
   "outputs": [],
   "source": [
    "import numpy as np"
   ]
  },
  {
   "cell_type": "code",
   "execution_count": 2,
   "metadata": {},
   "outputs": [],
   "source": [
    "# The azimuth angles (in degrees) of the loudspeakers.\n",
    "emitter_angles = [30, 110, 150, -150, -110, -30]"
   ]
  },
  {
   "cell_type": "code",
   "execution_count": 3,
   "metadata": {},
   "outputs": [],
   "source": [
    "# Unit vectors for the loudspeakers. Not that the matrix is constructed as the transpose of the vectors.\n",
    "# When P' = G * L, the result of P' is the correct p = g1 L1 + g2 L2 by scaled vector addition.\n",
    "# The projections of the unit vectors sum to the unit vector in the direction of the source.\n",
    "L = np.array((np.cos(np.radians(emitter_angles)), np.sin(np.radians(emitter_angles)))).T"
   ]
  },
  {
   "cell_type": "code",
   "execution_count": 4,
   "metadata": {},
   "outputs": [],
   "source": [
    "# Create successive pairs of speaker angles until looping around. The pair (n1, n2) where \n",
    "# n1 is 'more clock-wise' than n2.\n",
    "panning_pairs = [(i, i + 1) for i in range(len(emitter_angles) - 1)] + [(len(emitter_angles) - 1, 0)]"
   ]
  },
  {
   "cell_type": "code",
   "execution_count": 5,
   "metadata": {},
   "outputs": [],
   "source": [
    "# The azimuth angles (in degrees) of the sources.\n",
    "source_angles = [15, -15, 180, 0, 30]"
   ]
  },
  {
   "cell_type": "code",
   "execution_count": 6,
   "metadata": {},
   "outputs": [],
   "source": [
    "# Calculate the cartesian directional unit vectors for the sound sources.\n",
    "P = np.array((np.cos(np.radians(source_angles)), np.sin(np.radians(source_angles))))"
   ]
  },
  {
   "cell_type": "code",
   "execution_count": 7,
   "metadata": {},
   "outputs": [],
   "source": [
    "# G is the matrix that contains the calculated gains between each emitter within\n",
    "# a panning pair of emitters, for each emitter.\n",
    "#\n",
    "# For M sound sources, for N panning pairs, [n1, n2] where n1 is 'more clock-wise' than n2.\n",
    "G = np.zeros((len(source_angles), len(emitter_angles), 2))"
   ]
  },
  {
   "cell_type": "code",
   "execution_count": 8,
   "metadata": {},
   "outputs": [],
   "source": [
    "# For each source, calculate the gains matrix for all panning pairs.\n",
    "\n",
    "# The directional unit vectors for a specific panning pair.\n",
    "Ln1n2 = np.zeros((2, 2))\n",
    "\n",
    "for m in range(len(source_angles)):\n",
    "    pT = P[:, m].reshape(2, 1).T\n",
    "    for n in range(len(emitter_angles)):\n",
    "        panning_pair = list(panning_pairs[n])\n",
    "        Ln1n2[:,:] = L[panning_pair,:]\n",
    "        # del panning_pair\n",
    "        G[m, n, :] = pT @ np.linalg.inv(Ln1n2)\n",
    "    del pT\n",
    "\n",
    "# del Ln1n2\n",
    "# del m, n"
   ]
  },
  {
   "cell_type": "code",
   "execution_count": 9,
   "metadata": {},
   "outputs": [],
   "source": [
    "class PannedSource:\n",
    "    def __init__(self, source_angle, group, gains):\n",
    "        self.source_angle = source_angle\n",
    "        self.group = group\n",
    "        self.gains = gains\n",
    "        self.gains[gains < 0.000001] = 0.0\n",
    "        \n",
    "\n",
    "    def __str__(self):\n",
    "        return f'{self.source_angle} = {self.gains[0]} * {self.group[0]} + {self.gains[1]} * {self.group[1]}'\n",
    "    \n",
    "    def pan(self, source, input):\n",
    "        '''\n",
    "        source.shape == (m, 1)\n",
    "        input.shape == (m, n) where m is the number of samples and n is the number of channels/speakers.\n",
    "\n",
    "        Returns an m x n array with panned source correctly mixed into the appropriate channels of input.\n",
    "        Specifically, \n",
    "            output[:,self.group] = self.gains * source + input[self.group]\n",
    "        '''\n",
    "\n",
    "        return self.gains * np.repeat(source, 2).reshape(len(source), 2) + input[:,self.group]\n",
    "\n",
    "valid_pannings = np.logical_and(G > 0, G < 1.00001)\n",
    "panned_sources = [PannedSource(source_angle=source_angles[m],\n",
    "                                group=panning_pairs[n],\n",
    "                                gains=G[m, n, :]) for m in range(len(source_angles)) for n in range(len(emitter_angles)) if valid_pannings[m,n,:].all()]\n",
    "# del valid_pannings\n",
    "# del panning_pairs"
   ]
  },
  {
   "cell_type": "code",
   "execution_count": 10,
   "metadata": {},
   "outputs": [
    {
     "data": {
      "text/plain": [
       "['15 = 0.2988584907226845 * 5 + 0.816496580927726 * 0',\n",
       " '-15 = 0.816496580927726 * 5 + 0.2988584907226845 * 0',\n",
       " '180 = 0.5773502691896258 * 2 + 0.5773502691896256 * 3',\n",
       " '0 = 0.5773502691896257 * 5 + 0.5773502691896257 * 0',\n",
       " '30 = 1.0 * 0 + 0.0 * 1']"
      ]
     },
     "execution_count": 10,
     "metadata": {},
     "output_type": "execute_result"
    }
   ],
   "source": [
    "[str(panned_source) for panned_source in panned_sources]"
   ]
  },
  {
   "cell_type": "code",
   "execution_count": 15,
   "metadata": {},
   "outputs": [],
   "source": [
    "fs = 48000\n",
    "T = 3\n",
    "#output = np.zeros(fs * 3, len(emitter_angles))\n",
    "#source = np.arange(1, szBlock + 1)\n",
    "#input = np.arange(1, szBlock * len(emitter_angles) + 1).reshape(szBlock, len(emitter_angles))\n"
   ]
  },
  {
   "cell_type": "code",
   "execution_count": 25,
   "metadata": {},
   "outputs": [
    {
     "data": {
      "image/png": "[encoded data removed]",
      "text/plain": [
       "<Figure size 640x480 with 1 Axes>"
      ]
     },
     "metadata": {},
     "output_type": "display_data"
    }
   ],
   "source": [
    "import matplotlib.pyplot as plt\n",
    "\n",
    "t = np.linspace(0, T, fs * T)\n",
    "\n",
    "plt.plot(t, np.sin(2 * np.pi * t))\n",
    "plt.grid(True)\n"
   ]
  },
  {
   "cell_type": "code",
   "execution_count": null,
   "metadata": {},
   "outputs": [],
   "source": []
  }
 ],
 "metadata": {
  "kernelspec": {
   "display_name": "Python 3 (ipykernel)",
   "language": "python",
   "name": "python3"
  },
  "language_info": {
   "codemirror_mode": {
    "name": "ipython",
    "version": 3
   },
   "file_extension": ".py",
   "mimetype": "text/x-python",
   "name": "python",
   "nbconvert_exporter": "python",
   "pygments_lexer": "ipython3",
   "version": "3.11.10"
  }
 },
 "nbformat": 4,
 "nbformat_minor": 2
}
