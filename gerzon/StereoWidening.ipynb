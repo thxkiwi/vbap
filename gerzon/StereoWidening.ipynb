{
 "cells": [
  {
   "cell_type": "markdown",
   "metadata": {},
   "source": [
    "# Simple Stereo Widening using Blumlein Shuffling [Gerzon 1994]\n",
    "\n",
    "- https://thxltd.atlassian.net/browse/TPS-2262\n",
    "  - Jira ticket tracked original literary review of the Gerzon 1994 paper, \"Applications of Blumlein Shuffling to Stereo Microphone Techniques*.\n",
    "  - My marked-up PDF of Gerzon 1994 can be found in the `gerzon` directory of this repository.\n",
    "\n",
    "- https://thxltd.atlassian.net/browse/TPS-2249\n",
    "  - Tracked review of Blumlein's 1933 patent.\n",
    "  - Marked-up PDF of Blumlein 1933 also found in the `blumlein` directory of this repostiory.\n",
    "\n",
    "# Discussion\n",
    "\n",
    "## Section 1.1 \n",
    "\n",
    "- Gerzon covers Blumlein's processing and math.\n",
    "\n",
    "### Paragraph 3\n",
    "\n",
    "- Gerzon adopts a $\\frac{1}{\\sqrt{2}}$ scaling factor over Blumlein's $\\frac{1}{2}$.\n",
    "\n",
    "### Paragraph 4\n",
    "\n",
    "- Gerzon notes,\n",
    "  - Convenience that conversions between LR and MS in both directions are now identical.\n",
    "    - Direct relationship with Fourier transform.\n",
    "  - Stereo signal energy is conserved, that is $L^2 + R^2 = M^2 + S^2$\n",
    "\n",
    "### Paragraph 5\n",
    "\n",
    "- Gerzon states \"[t]he simpleset use of signal processing in the MS mode is the _stereo width control_ devised by Blumlein\".\n",
    "\n",
    "# Blumlein/Gerzon's Simple Stereo Widening\n",
    "\n",
    "- Using a simple Blumlein Shuffler, varying the gain of the `S` channel and converting back to `L` and `R` channels gives the effect of simple stereo widening."
   ]
  },
  {
   "cell_type": "markdown",
   "metadata": {},
   "source": [
    "## Implementing a Blumlein Shuffler Using Gerzon's Modifications\n",
    "\n",
    "### Blumlein\n",
    "\n",
    "\\begin{align}\n",
    "\n",
    "M &= \\frac{1}{2}(L + R) \\\\\n",
    "\n",
    "S &= \\frac{1}{2}(L - R)\n",
    "\n",
    "\\end{align}\n",
    "\n",
    "### Gerzon\n",
    "\n",
    "\\begin{align}\n",
    "\n",
    "M &= \\frac{1}{\\sqrt{2}}(L + R) \\\\\n",
    "\n",
    "S &= \\frac{1}{\\sqrt{2}}(L - R)\n",
    "\n",
    "\\end{align}\n",
    "\n",
    "## Blumlein/Gerzon Simple Stereo Widener\n",
    "\n",
    "\\begin{align}\n",
    "\n",
    "[L, R] \\quad \\xrightarrow{\\text{shuffle}} \\quad [M, S] \\quad \\xrightarrow{\\text{width scaling}} \\quad [M, S'] \\quad \\xrightarrow{\\text{shuffle}} \\quad [L', R']\n",
    "\n",
    "\\end{align}"
   ]
  },
  {
   "cell_type": "code",
   "execution_count": 9,
   "metadata": {},
   "outputs": [],
   "source": [
    "import numpy as np\n",
    "import math"
   ]
  },
  {
   "cell_type": "code",
   "execution_count": 10,
   "metadata": {},
   "outputs": [],
   "source": [
    "def blumlein_gerzon_shuffle(a, b, scaling = 1 / math.sqrt(2)):\n",
    "    return [(a + b) * scaling, (a - b) * scaling]"
   ]
  },
  {
   "cell_type": "code",
   "execution_count": 11,
   "metadata": {},
   "outputs": [],
   "source": [
    "def blumlein_gerzon_widen(l, r, width = 1.0):\n",
    "    if width < 0.0 or width > 1.0:\n",
    "        raise ValueError(\"width must be between 0.0 and 1.0\")\n",
    "    [M, S] = blumlein_gerzon_shuffle(l, r)\n",
    "    return blumlein_gerzon_shuffle(M, S * width)"
   ]
  },
  {
   "cell_type": "markdown",
   "metadata": {},
   "source": [
    "# Testing"
   ]
  },
  {
   "cell_type": "code",
   "execution_count": 12,
   "metadata": {},
   "outputs": [
    {
     "ename": "FileNotFoundError",
     "evalue": "[Errno 2] No such file or directory: 'test.wav'",
     "output_type": "error",
     "traceback": [
      "\u001b[0;31m---------------------------------------------------------------------------\u001b[0m",
      "\u001b[0;31mFileNotFoundError\u001b[0m                         Traceback (most recent call last)",
      "Cell \u001b[0;32mIn[12], line 3\u001b[0m\n\u001b[1;32m      1\u001b[0m \u001b[38;5;28;01mimport\u001b[39;00m \u001b[38;5;21;01mscipy\u001b[39;00m\n\u001b[0;32m----> 3\u001b[0m [fs, stimulus] \u001b[38;5;241m=\u001b[39m \u001b[43mscipy\u001b[49m\u001b[38;5;241;43m.\u001b[39;49m\u001b[43mio\u001b[49m\u001b[38;5;241;43m.\u001b[39;49m\u001b[43mwavfile\u001b[49m\u001b[38;5;241;43m.\u001b[39;49m\u001b[43mread\u001b[49m\u001b[43m(\u001b[49m\u001b[38;5;124;43m\"\u001b[39;49m\u001b[38;5;124;43mtest.wav\u001b[39;49m\u001b[38;5;124;43m\"\u001b[39;49m\u001b[43m)\u001b[49m\n\u001b[1;32m      5\u001b[0m \u001b[38;5;28mprint\u001b[39m(stimulus\u001b[38;5;241m.\u001b[39mshape)\n\u001b[1;32m      7\u001b[0m \u001b[38;5;28;01mfor\u001b[39;00m width \u001b[38;5;129;01min\u001b[39;00m [\u001b[38;5;241m0.0\u001b[39m, \u001b[38;5;241m0.25\u001b[39m, \u001b[38;5;241m0.5\u001b[39m, \u001b[38;5;241m0.75\u001b[39m, \u001b[38;5;241m1.0\u001b[39m]:\n",
      "File \u001b[0;32m/opt/conda/lib/python3.11/site-packages/scipy/io/wavfile.py:674\u001b[0m, in \u001b[0;36mread\u001b[0;34m(filename, mmap)\u001b[0m\n\u001b[1;32m    672\u001b[0m     mmap \u001b[38;5;241m=\u001b[39m \u001b[38;5;28;01mFalse\u001b[39;00m\n\u001b[1;32m    673\u001b[0m \u001b[38;5;28;01melse\u001b[39;00m:\n\u001b[0;32m--> 674\u001b[0m     fid \u001b[38;5;241m=\u001b[39m \u001b[38;5;28;43mopen\u001b[39;49m\u001b[43m(\u001b[49m\u001b[43mfilename\u001b[49m\u001b[43m,\u001b[49m\u001b[43m \u001b[49m\u001b[38;5;124;43m'\u001b[39;49m\u001b[38;5;124;43mrb\u001b[39;49m\u001b[38;5;124;43m'\u001b[39;49m\u001b[43m)\u001b[49m\n\u001b[1;32m    676\u001b[0m \u001b[38;5;28;01mtry\u001b[39;00m:\n\u001b[1;32m    677\u001b[0m     file_size, is_big_endian, is_rf64 \u001b[38;5;241m=\u001b[39m _read_riff_chunk(fid)\n",
      "\u001b[0;31mFileNotFoundError\u001b[0m: [Errno 2] No such file or directory: 'test.wav'"
     ]
    }
   ],
   "source": [
    "import scipy\n",
    "\n",
    "[fs, stimulus] = scipy.io.wavfile.read(\"test.wav\")\n",
    "\n",
    "print(stimulus.shape)\n",
    "\n",
    "for width in [0.0, 0.25, 0.5, 0.75, 1.0]:\n",
    "    widened = blumlein_gerzon_widen(stimulus[:, 0], stimulus[:, 1], width)\n",
    "    scipy.io.wavfile.write(f\"test_widen-{width}.wav\", fs, widened)\n"
   ]
  },
  {
   "cell_type": "code",
   "execution_count": null,
   "metadata": {},
   "outputs": [],
   "source": []
  }
 ],
 "metadata": {
  "kernelspec": {
   "display_name": "base",
   "language": "python",
   "name": "python3"
  },
  "language_info": {
   "codemirror_mode": {
    "name": "ipython",
    "version": 3
   },
   "file_extension": ".py",
   "mimetype": "text/x-python",
   "name": "python",
   "nbconvert_exporter": "python",
   "pygments_lexer": "ipython3",
   "version": "3.11.10"
  }
 },
 "nbformat": 4,
 "nbformat_minor": 2
}
