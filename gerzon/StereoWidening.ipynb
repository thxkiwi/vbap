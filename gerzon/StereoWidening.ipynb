{
 "cells": [
  {
   "cell_type": "markdown",
   "metadata": {},
   "source": [
    "# Simple Stereo Widening using Blumlein Shuffling [Gerzon 1994]\n",
    "\n",
    "- https://thxltd.atlassian.net/browse/TPS-2262\n",
    "  - Jira ticket tracked original literary review of the Gerzon 1994 paper, \"Applications of Blumlein Shuffling to Stereo Microphone Techniques*.\n",
    "  - My marked-up PDF of Gerzon 1994 can be found in the `gerzon` directory of this repository.\n",
    "\n",
    "- https://thxltd.atlassian.net/browse/TPS-2249\n",
    "  - Tracked review of Blumlein's 1933 patent.\n",
    "  - Marked-up PDF of Blumlein 1933 also found in the `blumlein` directory of this repostiory.\n",
    "\n",
    "# Discussion\n",
    "\n",
    "## Section 1.1 \n",
    "\n",
    "- Gerzon covers Blumlein's processing and math.\n",
    "\n",
    "### Paragraph 3\n",
    "\n",
    "- Gerzon adopts a $\\frac{1}{\\sqrt{2}}$ scaling factor over Blumlein's $\\frac{1}{2}$.\n",
    "\n",
    "### Paragraph 4\n",
    "\n",
    "- Gerzon notes,\n",
    "  - Convenience that conversions between LR and MS in both directions are now identical.\n",
    "    - Direct relationship with Fourier transform.\n",
    "  - Stereo signal energy is conserved, that is $L^2 + R^2 = M^2 + S^2$\n",
    "\n",
    "### Paragraph 5\n",
    "\n",
    "- Gerzon states \"[t]he simpleset use of signal processing in the MS mode is the _stereo width control_ devised by Blumlein\".\n",
    "\n",
    "# Blumlein/Gerzon's Simple Stereo Widening\n",
    "\n",
    "- Using a simple Blumlein Shuffler, varying the gain of the `S` channel and converting back to `L` and `R` channels gives the effect of simple stereo widening."
   ]
  },
  {
   "cell_type": "markdown",
   "metadata": {},
   "source": [
    "## Implementing a Blumlein Shuffler Using Gerzon's Modifications\n",
    "\n",
    "### Blumlein\n",
    "\n",
    "\\begin{align}\n",
    "\n",
    "M &= \\frac{1}{2}(L + R) \\\\\n",
    "\n",
    "S &= \\frac{1}{2}(L - R)\n",
    "\n",
    "\\end{align}\n",
    "\n",
    "### Gerzon\n",
    "\n",
    "\\begin{align}\n",
    "\n",
    "M &= \\frac{1}{\\sqrt{2}}(L + R) \\\\\n",
    "\n",
    "S &= \\frac{1}{\\sqrt{2}}(L - R)\n",
    "\n",
    "\\end{align}"
   ]
  },
  {
   "cell_type": "code",
   "execution_count": 9,
   "metadata": {},
   "outputs": [],
   "source": [
    "import numpy as np\n",
    "import math"
   ]
  },
  {
   "cell_type": "code",
   "execution_count": 10,
   "metadata": {},
   "outputs": [],
   "source": [
    "def blumlein_gerzon_shuffle(a, b, scaling = 1 / math.sqrt(2)):\n",
    "    return [(a + b) * scaling, (a - b) * scaling]"
   ]
  },
  {
   "cell_type": "code",
   "execution_count": 11,
   "metadata": {},
   "outputs": [],
   "source": [
    "def blumlein_gerzon_widen(l, r, width = 1.0):\n",
    "    if width < 0.0 or width > 1.0:\n",
    "        raise ValueError(\"width must be between 0.0 and 1.0\")\n",
    "    [M, S] = blumlein_gerzon_shuffle(l, r)\n",
    "    return blumlein_gerzon_shuffle(M, S * width)"
   ]
  }
 ],
 "metadata": {
  "kernelspec": {
   "display_name": "base",
   "language": "python",
   "name": "python3"
  },
  "language_info": {
   "codemirror_mode": {
    "name": "ipython",
    "version": 3
   },
   "file_extension": ".py",
   "mimetype": "text/x-python",
   "name": "python",
   "nbconvert_exporter": "python",
   "pygments_lexer": "ipython3",
   "version": "3.11.10"
  }
 },
 "nbformat": 4,
 "nbformat_minor": 2
}
