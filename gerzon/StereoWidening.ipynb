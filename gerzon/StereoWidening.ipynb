{
 "cells": [
  {
   "cell_type": "markdown",
   "metadata": {},
   "source": [
    "# Simple Stereo Widening using Blumlein Shuffling [Gerzon 1994]\n",
    "\n",
    "https://thxltd.atlassian.net/browse/TPS-2262"
   ]
  },
  {
   "cell_type": "markdown",
   "metadata": {},
   "source": []
  }
 ],
 "metadata": {
  "language_info": {
   "name": "python"
  }
 },
 "nbformat": 4,
 "nbformat_minor": 2
}
